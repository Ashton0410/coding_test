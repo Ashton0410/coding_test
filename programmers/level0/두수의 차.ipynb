{
 "cells": [
  {
   "cell_type": "code",
   "execution_count": null,
   "metadata": {},
   "outputs": [],
   "source": [
    "\n",
    "# solution1\n",
    "solution = lambda a, b : a-b\n",
    "\n",
    "# solution2\n",
    "def solution(num1, num2):\n",
    "    \n",
    "    answer = num1-num2\n",
    "    return answer\n",
    "\n",
    "# solution 3\n",
    "def solution(num1, num2):\n",
    "    num1=int(num1)\n",
    "    num2=int(num2)\n",
    "    answer = num1-num2\n",
    "    return answer"
   ]
  }
 ],
 "metadata": {
  "language_info": {
   "name": "python"
  },
  "orig_nbformat": 4
 },
 "nbformat": 4,
 "nbformat_minor": 2
}
