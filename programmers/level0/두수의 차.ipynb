{
 "cells": [
  {
   "cell_type": "code",
   "execution_count": null,
   "metadata": {},
   "outputs": [],
   "source": [
    "solution = lambda a, b : a-b\n",
    "\n",
    "\n",
    "def solution(num1, num2):\n",
    "    \n",
    "    answer = num1-num2\n",
    "    return answer\n",
    "\n",
    "def solution(num1, num2):\n",
    "    num1=int(num1)\n",
    "    num2=int(num2)\n",
    "    answer = num1-num2\n",
    "    return answer"
   ]
  }
 ],
 "metadata": {
  "language_info": {
   "name": "python"
  },
  "orig_nbformat": 4
 },
 "nbformat": 4,
 "nbformat_minor": 2
}
