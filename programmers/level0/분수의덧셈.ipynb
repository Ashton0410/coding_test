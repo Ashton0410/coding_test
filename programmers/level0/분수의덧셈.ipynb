{
 "cells": [
  {
   "cell_type": "code",
   "execution_count": null,
   "metadata": {},
   "outputs": [],
   "source": [
    "def solution(numer1, denom1, numer2, denom2):\n",
    "    \n",
    "    import math\n",
    "    numer=numer1*denom2 + numer2*denom1\n",
    "    denom=denom1 * denom2\n",
    "    a=math.gcd(numer,denom)\n",
    "    answer=[numer/a, denom/a]\n",
    "    \n",
    "    return answer\n",
    "\n",
    "    #"
   ]
  }
 ],
 "metadata": {
  "language_info": {
   "name": "python"
  },
  "orig_nbformat": 4
 },
 "nbformat": 4,
 "nbformat_minor": 2
}
