{
 "cells": [
  {
   "cell_type": "code",
   "execution_count": null,
   "metadata": {},
   "outputs": [],
   "source": [
    "def solution(array, height):\n",
    "    check=0\n",
    "    for i in array:\n",
    "        if i == height:\n",
    "            check+=1\n",
    "    array.append(height)\n",
    "    array.sort()\n",
    "    a=array.index(height)\n",
    "    \n",
    "    return len(array)-(a+1)-check"
   ]
  }
 ],
 "metadata": {
  "language_info": {
   "name": "python"
  },
  "orig_nbformat": 4
 },
 "nbformat": 4,
 "nbformat_minor": 2
}
