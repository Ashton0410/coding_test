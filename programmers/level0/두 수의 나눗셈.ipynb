{
 "cells": [
  {
   "cell_type": "code",
   "execution_count": null,
   "metadata": {},
   "outputs": [],
   "source": [
    "\n",
    "# solution1-1\n",
    "solution = lambda a,b:a/b*1000//1\n",
    "\n",
    "# solution1-2\n",
    "solution = lambda a, b: 1000 * a // b\n",
    "\n",
    "\n",
    "# solution2-1\n",
    "def solution(num1, num2):\n",
    "    answer = num1/ num2 * 1000 //1\n",
    "    return answer\n",
    "\n",
    "# solution2-2\n",
    "def solution(num1, num2):\n",
    "    answer = 1000 *num1 //num2\n",
    "    return answer\n",
    "\n",
    "# solution3\n",
    "def solution(num1, num2):\n",
    "    return int(num1 / num2 * 1000)"
   ]
  },
  {
   "cell_type": "code",
   "execution_count": 1,
   "metadata": {},
   "outputs": [
    {
     "data": {
      "text/plain": [
       "2"
      ]
     },
     "execution_count": 1,
     "metadata": {},
     "output_type": "execute_result"
    }
   ],
   "source": []
  }
 ],
 "metadata": {
  "kernelspec": {
   "display_name": "base",
   "language": "python",
   "name": "python3"
  },
  "language_info": {
   "codemirror_mode": {
    "name": "ipython",
    "version": 3
   },
   "file_extension": ".py",
   "mimetype": "text/x-python",
   "name": "python",
   "nbconvert_exporter": "python",
   "pygments_lexer": "ipython3",
   "version": "3.10.9"
  },
  "orig_nbformat": 4
 },
 "nbformat": 4,
 "nbformat_minor": 2
}
