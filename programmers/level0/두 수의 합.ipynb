{
 "cells": [
  {
   "cell_type": "code",
   "execution_count": null,
   "metadata": {},
   "outputs": [],
   "source": [
    "\n",
    "# solution1\n",
    "solution = lambda a,b:a+b\n",
    "\n",
    "# solution2\n",
    "def solution(num1, num2):\n",
    "    answer = num1 + num2\n",
    "    return answer\n",
    "\n",
    "# solution3\n",
    "solution = lambda *x:sum(x) #람다는 익명함수 이며, *x는 함수로 들어오는 인수를 튜플로 패킹한다는 뜻\n",
    "#*x는 가변 인자를 나타내는 것으로, 함수가 받을 수 있는 개수가 정해지지 않은 위치 인자들을 묶어서 튜플 x에 저장\n",
    "# 아래와 같은 형태로 가능\n",
    "# print(solution(1, 2, 3))  # Output: 6 (1 + 2 + 3)\n",
    "# print(solution(10, 20, 30, 40))  # Output: 100 (10 + 20 + 30 + 40)\n",
    "# print(solution(5, 10, 15, 20, 25, 30))  # Output: 105 (5 + 10 + 15 + 20 + 25 + 30)"
   ]
  },
  {
   "cell_type": "code",
   "execution_count": null,
   "metadata": {},
   "outputs": [],
   "source": []
  }
 ],
 "metadata": {
  "language_info": {
   "name": "python"
  },
  "orig_nbformat": 4
 },
 "nbformat": 4,
 "nbformat_minor": 2
}
