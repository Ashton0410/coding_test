{
 "cells": [
  {
   "cell_type": "code",
   "execution_count": null,
   "metadata": {},
   "outputs": [],
   "source": [
    "\n",
    "# solution1\n",
    "def solution(num1, num2):\n",
    "    return 1 if num1==num2 else -1\n",
    "\n",
    "# solution2\n",
    "def solution(num1, num2):\n",
    "    answer = 0\n",
    "    \n",
    "    if num1 == num2:\n",
    "        answer +=1\n",
    "    else:\n",
    "        answer -=1\n",
    "    \n",
    "    return answer\n",
    "\n",
    "# solution3\n",
    "def solution(num1, num2):\n",
    "    return sum([num1==num2])*2-1\n",
    "\n",
    "# solution4\n",
    "def solution(num1, num2):\n",
    "\n",
    "    return 1 if num1 - num2 == 0 else -1\n"
   ]
  }
 ],
 "metadata": {
  "language_info": {
   "name": "python"
  },
  "orig_nbformat": 4
 },
 "nbformat": 4,
 "nbformat_minor": 2
}
